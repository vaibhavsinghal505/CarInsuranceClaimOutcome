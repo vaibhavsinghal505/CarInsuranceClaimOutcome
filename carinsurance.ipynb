{
  "cells": [
    {
      "source": [
        "\n",
        "\n",
        "## The dataset\n",
        "\n",
        "| Column | Description |\n",
        "|--------|-------------|\n",
        "| `id` | Unique client identifier |\n",
        "| `age` | Client's age: <br> <ul><li>`0`: 16-25</li><li>`1`: 26-39</li><li>`2`: 40-64</li><li>`3`: 65+</li></ul> |\n",
        "| `gender` | Client's gender: <br> <ul><li>`0`: Female</li><li>`1`: Male</li></ul> |\n",
        "| `driving_experience` | Years the client has been driving: <br> <ul><li>`0`: 0-9</li><li>`1`: 10-19</li><li>`2`: 20-29</li><li>`3`: 30+</li></ul> |\n",
        "| `education` | Client's level of education: <br> <ul><li>`0`: No education</li><li>`1`: High school</li><li>`2`: University</li></ul> |\n",
        "| `income` | Client's income level: <br> <ul><li>`0`: Poverty</li><li>`1`: Working class</li><li>`2`: Middle class</li><li>`3`: Upper class</li></ul> |\n",
        "| `credit_score` | Client's credit score (between zero and one) |\n",
        "| `vehicle_ownership` | Client's vehicle ownership status: <br><ul><li>`0`: Does not own their vehilce (paying off finance)</li><li>`1`: Owns their vehicle</li></ul> |\n",
        "| `vehcile_year` | Year of vehicle registration: <br><ul><li>`0`: Before 2015</li><li>`1`: 2015 or later</li></ul> |\n",
        "| `married` | Client's marital status: <br><ul><li>`0`: Not married</li><li>`1`: Married</li></ul> |\n",
        "| `children` | Client's number of children |\n",
        "| `postal_code` | Client's postal code |\n",
        "| `annual_mileage` | Number of miles driven by the client each year |\n",
        "| `vehicle_type` | Type of car: <br> <ul><li>`0`: Sedan</li><li>`1`: Sports car</li></ul> |\n",
        "| `speeding_violations` | Total number of speeding violations received by the client |\n",
        "| `duis` | Number of times the client has been caught driving under the influence of alcohol |\n",
        "| `past_accidents` | Total number of previous accidents the client has been involved in |\n",
        "| `outcome` | Whether the client made a claim on their car insurance (response variable): <br><ul><li>`0`: No claim</li><li>`1`: Made a claim</li></ul> |"
      ],
      "metadata": {
        "id": "8928ffdf-25d6-4ad9-909f-0dd8d10b9a42"
      },
      "id": "8928ffdf-25d6-4ad9-909f-0dd8d10b9a42",
      "cell_type": "markdown"
    },
    {
      "source": [
        "# Import required modules\n",
        "import pandas as pd  # pandas is used for data manipulation and analysis\n",
        "import numpy as np  # numpy is used for numerical operations, though not directly used in this code\n",
        "from statsmodels.formula.api import logit  # logit function from statsmodels for logistic regression"
      ],
      "metadata": {
        "executionTime": 3577,
        "id": "d0eb4f16-5a99-460d-a5ba-706b7ef0bbe7",
        "lastSuccessfullyExecutedCode": "# Import required modules\nimport pandas as pd\nimport numpy as np\nfrom statsmodels.formula.api import logit\n\ncars = pd.read_csv(\"car_insurance.csv\")\ncars.info()\ncars[\"credit_score\"].fillna(cars['credit_score'].mean(), inplace=True)\ncars['annual_mileage'].fillna(cars['annual_mileage'].mean(), inplace=True)  # Corrected column name\nmodels = []\nfeatures = cars.drop(columns=[\"id\", \"outcome\"])\ncolumns = features.columns  # Added this line to define 'columns'\nfor col in columns:\n    model = logit(f\"outcome ~ {col}\", data=cars).fit()  # Corrected f-string usage\n    models.append(model)\n\naccuracies = []\nfor feature in range(0, len(models)):\n    conf_matrix = models[feature].pred_table()\n    tn = conf_matrix[0, 0]\n    tp = conf_matrix[1, 1]\n    fn = conf_matrix[1, 0]\n    fp = conf_matrix[0, 1]\n    acc = (tn + tp) / (tn + tp + fp + fn)\n    accuracies.append(acc)\n    \nbest_feature = features.columns[accuracies.index(max(accuracies))]\nbest_feature_df = pd.DataFrame({\"best_feature\": [best_feature],\n                                \"best_accuracy\": [max(accuracies)]},\n                               index=[0])\nbest_feature_df",
        "executionCancelledAt": null,
        "lastExecutedAt": 1717063174547,
        "lastExecutedByKernel": "4fa59dbf-3b89-47f6-82ac-f523f009cd11",
        "lastScheduledRunId": null,
        "outputsMetadata": {
          "0": {
            "height": 616,
            "type": "stream"
          },
          "1": {
            "height": 110,
            "type": "dataFrame"
          }
        }
      },
      "id": "d0eb4f16-5a99-460d-a5ba-706b7ef0bbe7",
      "cell_type": "code",
      "execution_count": 1,
      "outputs": []
    },
    {
      "cell_type": "code",
      "source": [
        "# Load the dataset from a CSV file\n",
        "cars = pd.read_csv(\"car_insurance.csv\")  # Reads the CSV file into a pandas DataFrame\n",
        "cars.info()  # Prints information about the dataset (column names, data types, and null values)"
      ],
      "metadata": {
        "colab": {
          "base_uri": "https://localhost:8080/"
        },
        "id": "umHmo6-xjRWW",
        "outputId": "41fa022c-1e4e-4b6f-d47a-b01d5d4b231b"
      },
      "id": "umHmo6-xjRWW",
      "execution_count": 2,
      "outputs": [
        {
          "output_type": "stream",
          "name": "stdout",
          "text": [
            "<class 'pandas.core.frame.DataFrame'>\n",
            "RangeIndex: 10000 entries, 0 to 9999\n",
            "Data columns (total 18 columns):\n",
            " #   Column               Non-Null Count  Dtype  \n",
            "---  ------               --------------  -----  \n",
            " 0   id                   10000 non-null  int64  \n",
            " 1   age                  10000 non-null  int64  \n",
            " 2   gender               10000 non-null  int64  \n",
            " 3   driving_experience   10000 non-null  object \n",
            " 4   education            10000 non-null  object \n",
            " 5   income               10000 non-null  object \n",
            " 6   credit_score         9018 non-null   float64\n",
            " 7   vehicle_ownership    10000 non-null  float64\n",
            " 8   vehicle_year         10000 non-null  object \n",
            " 9   married              10000 non-null  float64\n",
            " 10  children             10000 non-null  float64\n",
            " 11  postal_code          10000 non-null  int64  \n",
            " 12  annual_mileage       9043 non-null   float64\n",
            " 13  vehicle_type         10000 non-null  object \n",
            " 14  speeding_violations  10000 non-null  int64  \n",
            " 15  duis                 10000 non-null  int64  \n",
            " 16  past_accidents       10000 non-null  int64  \n",
            " 17  outcome              10000 non-null  float64\n",
            "dtypes: float64(6), int64(7), object(5)\n",
            "memory usage: 1.4+ MB\n"
          ]
        }
      ]
    },
    {
      "cell_type": "code",
      "source": [
        "# Fill missing values in the 'credit_score' column with the column's mean value\n",
        "cars[\"credit_score\"].fillna(cars['credit_score'].mean(), inplace=True)"
      ],
      "metadata": {
        "colab": {
          "base_uri": "https://localhost:8080/"
        },
        "id": "XWd6EzuXjVOE",
        "outputId": "e4af0dae-8561-4e8f-9df0-ed055c6bec9a"
      },
      "id": "XWd6EzuXjVOE",
      "execution_count": 3,
      "outputs": [
        {
          "output_type": "stream",
          "name": "stderr",
          "text": [
            "<ipython-input-3-0ffb9470f9e7>:2: FutureWarning: A value is trying to be set on a copy of a DataFrame or Series through chained assignment using an inplace method.\n",
            "The behavior will change in pandas 3.0. This inplace method will never work because the intermediate object on which we are setting values always behaves as a copy.\n",
            "\n",
            "For example, when doing 'df[col].method(value, inplace=True)', try using 'df.method({col: value}, inplace=True)' or df[col] = df[col].method(value) instead, to perform the operation inplace on the original object.\n",
            "\n",
            "\n",
            "  cars[\"credit_score\"].fillna(cars['credit_score'].mean(), inplace=True)\n"
          ]
        }
      ]
    },
    {
      "cell_type": "code",
      "source": [
        "# Fill missing values in the 'annual_mileage' column with the column's mean value\n",
        "cars['annual_mileage'].fillna(cars['annual_mileage'].mean(), inplace=True)  # Replaced missing values with the mean"
      ],
      "metadata": {
        "colab": {
          "base_uri": "https://localhost:8080/"
        },
        "id": "kiw3Ne6_jfiN",
        "outputId": "175fa838-a4e8-4632-ac76-2fe1cd7fa28e"
      },
      "id": "kiw3Ne6_jfiN",
      "execution_count": 4,
      "outputs": [
        {
          "output_type": "stream",
          "name": "stderr",
          "text": [
            "<ipython-input-4-2c553bc13cc2>:2: FutureWarning: A value is trying to be set on a copy of a DataFrame or Series through chained assignment using an inplace method.\n",
            "The behavior will change in pandas 3.0. This inplace method will never work because the intermediate object on which we are setting values always behaves as a copy.\n",
            "\n",
            "For example, when doing 'df[col].method(value, inplace=True)', try using 'df.method({col: value}, inplace=True)' or df[col] = df[col].method(value) instead, to perform the operation inplace on the original object.\n",
            "\n",
            "\n",
            "  cars['annual_mileage'].fillna(cars['annual_mileage'].mean(), inplace=True)  # Replaced missing values with the mean\n"
          ]
        }
      ]
    },
    {
      "cell_type": "code",
      "source": [
        "# Initialize an empty list to store models\n",
        "models = []"
      ],
      "metadata": {
        "id": "WBSzIcpHjiKq"
      },
      "id": "WBSzIcpHjiKq",
      "execution_count": 5,
      "outputs": []
    },
    {
      "cell_type": "code",
      "source": [
        "# Create a new DataFrame `features` that drops the 'id' and 'outcome' columns from the original dataset\n",
        "features = cars.drop(columns=[\"id\", \"outcome\"])  # 'id' is not a predictor, and 'outcome' is the target variable\n",
        "columns = features.columns  # Get the list of feature column names\n"
      ],
      "metadata": {
        "id": "dqeqqEskjkcR"
      },
      "id": "dqeqqEskjkcR",
      "execution_count": 6,
      "outputs": []
    },
    {
      "cell_type": "code",
      "source": [
        "# Loop through each feature column to fit a logistic regression model for each feature individually\n",
        "for col in columns:\n",
        "    # For each feature, fit a logistic regression model using the formula `outcome ~ feature`\n",
        "    model = logit(f\"outcome ~ {col}\", data=cars).fit()  # Fits a logistic regression model for predicting 'outcome'\n",
        "    models.append(model)  # Store the fitted model in the 'models' list"
      ],
      "metadata": {
        "colab": {
          "base_uri": "https://localhost:8080/"
        },
        "id": "xq45yOiHjmUy",
        "outputId": "03a4e9c9-ac6e-49eb-99e4-c823b02cb830"
      },
      "id": "xq45yOiHjmUy",
      "execution_count": 7,
      "outputs": [
        {
          "output_type": "stream",
          "name": "stdout",
          "text": [
            "Optimization terminated successfully.\n",
            "         Current function value: 0.511794\n",
            "         Iterations 6\n",
            "Optimization terminated successfully.\n",
            "         Current function value: 0.615951\n",
            "         Iterations 5\n",
            "Optimization terminated successfully.\n",
            "         Current function value: 0.467092\n",
            "         Iterations 8\n",
            "Optimization terminated successfully.\n",
            "         Current function value: 0.603742\n",
            "         Iterations 5\n",
            "Optimization terminated successfully.\n",
            "         Current function value: 0.531499\n",
            "         Iterations 6\n",
            "Optimization terminated successfully.\n",
            "         Current function value: 0.572557\n",
            "         Iterations 6\n",
            "Optimization terminated successfully.\n",
            "         Current function value: 0.552412\n",
            "         Iterations 5\n",
            "Optimization terminated successfully.\n",
            "         Current function value: 0.572668\n",
            "         Iterations 6\n",
            "Optimization terminated successfully.\n",
            "         Current function value: 0.586659\n",
            "         Iterations 5\n",
            "Optimization terminated successfully.\n",
            "         Current function value: 0.595431\n",
            "         Iterations 5\n",
            "Optimization terminated successfully.\n",
            "         Current function value: 0.617345\n",
            "         Iterations 5\n",
            "Optimization terminated successfully.\n",
            "         Current function value: 0.605716\n",
            "         Iterations 5\n",
            "Optimization terminated successfully.\n",
            "         Current function value: 0.621700\n",
            "         Iterations 5\n",
            "Optimization terminated successfully.\n",
            "         Current function value: 0.558922\n",
            "         Iterations 7\n",
            "Optimization terminated successfully.\n",
            "         Current function value: 0.598699\n",
            "         Iterations 6\n",
            "Optimization terminated successfully.\n",
            "         Current function value: 0.549220\n",
            "         Iterations 7\n"
          ]
        }
      ]
    },
    {
      "cell_type": "code",
      "source": [
        "# Initialize an empty list to store the accuracies of each model\n",
        "accuracies = []"
      ],
      "metadata": {
        "id": "Xd_AxkHJjn3g"
      },
      "id": "Xd_AxkHJjn3g",
      "execution_count": 8,
      "outputs": []
    },
    {
      "cell_type": "code",
      "source": [
        "# Loop through each model and calculate its accuracy using the confusion matrix\n",
        "for feature in range(0, len(models)):  # Iterate through all models\n",
        "    conf_matrix = models[feature].pred_table()  # Get the confusion matrix for the current model\n",
        "    tn = conf_matrix[0, 0]  # True Negatives: correctly predicted negatives\n",
        "    tp = conf_matrix[1, 1]  # True Positives: correctly predicted positives\n",
        "    fn = conf_matrix[1, 0]  # False Negatives: positives incorrectly predicted as negatives\n",
        "    fp = conf_matrix[0, 1]  # False Positives: negatives incorrectly predicted as positives\n",
        "\n",
        "    # Calculate the accuracy of the model: Accuracy = (TN + TP) / (TN + TP + FP + FN)\n",
        "    acc = (tn + tp) / (tn + tp + fp + fn)\n",
        "    accuracies.append(acc)  # Store the calculated accuracy in the 'accuracies' list"
      ],
      "metadata": {
        "id": "aekMDNj0jpXp"
      },
      "id": "aekMDNj0jpXp",
      "execution_count": 9,
      "outputs": []
    },
    {
      "cell_type": "code",
      "source": [
        "# Find the feature with the highest accuracy by identifying the index of the maximum accuracy\n",
        "best_feature = features.columns[accuracies.index(max(accuracies))]"
      ],
      "metadata": {
        "id": "498CbBZ-jrre"
      },
      "id": "498CbBZ-jrre",
      "execution_count": 10,
      "outputs": []
    },
    {
      "cell_type": "code",
      "source": [
        "# Create a DataFrame that contains the best feature and its corresponding accuracy\n",
        "best_feature_df = pd.DataFrame({\"best_feature\": [best_feature],\n",
        "                                \"best_accuracy\": [max(accuracies)]},\n",
        "                               index=[0])"
      ],
      "metadata": {
        "id": "GU7ax9IejtMI"
      },
      "id": "GU7ax9IejtMI",
      "execution_count": 11,
      "outputs": []
    },
    {
      "cell_type": "code",
      "source": [
        "# Display the result DataFrame containing the best feature and its accuracy\n",
        "best_feature_df"
      ],
      "metadata": {
        "colab": {
          "base_uri": "https://localhost:8080/",
          "height": 89
        },
        "id": "CEv_md8nju94",
        "outputId": "fc4fc061-495c-4cef-a99b-8c8529ff7745"
      },
      "id": "CEv_md8nju94",
      "execution_count": 12,
      "outputs": [
        {
          "output_type": "execute_result",
          "data": {
            "text/plain": [
              "         best_feature  best_accuracy\n",
              "0  driving_experience         0.7771"
            ],
            "text/html": [
              "\n",
              "  <div id=\"df-eeb9a289-638b-4bb9-982c-72941b93a42e\" class=\"colab-df-container\">\n",
              "    <div>\n",
              "<style scoped>\n",
              "    .dataframe tbody tr th:only-of-type {\n",
              "        vertical-align: middle;\n",
              "    }\n",
              "\n",
              "    .dataframe tbody tr th {\n",
              "        vertical-align: top;\n",
              "    }\n",
              "\n",
              "    .dataframe thead th {\n",
              "        text-align: right;\n",
              "    }\n",
              "</style>\n",
              "<table border=\"1\" class=\"dataframe\">\n",
              "  <thead>\n",
              "    <tr style=\"text-align: right;\">\n",
              "      <th></th>\n",
              "      <th>best_feature</th>\n",
              "      <th>best_accuracy</th>\n",
              "    </tr>\n",
              "  </thead>\n",
              "  <tbody>\n",
              "    <tr>\n",
              "      <th>0</th>\n",
              "      <td>driving_experience</td>\n",
              "      <td>0.7771</td>\n",
              "    </tr>\n",
              "  </tbody>\n",
              "</table>\n",
              "</div>\n",
              "    <div class=\"colab-df-buttons\">\n",
              "\n",
              "  <div class=\"colab-df-container\">\n",
              "    <button class=\"colab-df-convert\" onclick=\"convertToInteractive('df-eeb9a289-638b-4bb9-982c-72941b93a42e')\"\n",
              "            title=\"Convert this dataframe to an interactive table.\"\n",
              "            style=\"display:none;\">\n",
              "\n",
              "  <svg xmlns=\"http://www.w3.org/2000/svg\" height=\"24px\" viewBox=\"0 -960 960 960\">\n",
              "    <path d=\"M120-120v-720h720v720H120Zm60-500h600v-160H180v160Zm220 220h160v-160H400v160Zm0 220h160v-160H400v160ZM180-400h160v-160H180v160Zm440 0h160v-160H620v160ZM180-180h160v-160H180v160Zm440 0h160v-160H620v160Z\"/>\n",
              "  </svg>\n",
              "    </button>\n",
              "\n",
              "  <style>\n",
              "    .colab-df-container {\n",
              "      display:flex;\n",
              "      gap: 12px;\n",
              "    }\n",
              "\n",
              "    .colab-df-convert {\n",
              "      background-color: #E8F0FE;\n",
              "      border: none;\n",
              "      border-radius: 50%;\n",
              "      cursor: pointer;\n",
              "      display: none;\n",
              "      fill: #1967D2;\n",
              "      height: 32px;\n",
              "      padding: 0 0 0 0;\n",
              "      width: 32px;\n",
              "    }\n",
              "\n",
              "    .colab-df-convert:hover {\n",
              "      background-color: #E2EBFA;\n",
              "      box-shadow: 0px 1px 2px rgba(60, 64, 67, 0.3), 0px 1px 3px 1px rgba(60, 64, 67, 0.15);\n",
              "      fill: #174EA6;\n",
              "    }\n",
              "\n",
              "    .colab-df-buttons div {\n",
              "      margin-bottom: 4px;\n",
              "    }\n",
              "\n",
              "    [theme=dark] .colab-df-convert {\n",
              "      background-color: #3B4455;\n",
              "      fill: #D2E3FC;\n",
              "    }\n",
              "\n",
              "    [theme=dark] .colab-df-convert:hover {\n",
              "      background-color: #434B5C;\n",
              "      box-shadow: 0px 1px 3px 1px rgba(0, 0, 0, 0.15);\n",
              "      filter: drop-shadow(0px 1px 2px rgba(0, 0, 0, 0.3));\n",
              "      fill: #FFFFFF;\n",
              "    }\n",
              "  </style>\n",
              "\n",
              "    <script>\n",
              "      const buttonEl =\n",
              "        document.querySelector('#df-eeb9a289-638b-4bb9-982c-72941b93a42e button.colab-df-convert');\n",
              "      buttonEl.style.display =\n",
              "        google.colab.kernel.accessAllowed ? 'block' : 'none';\n",
              "\n",
              "      async function convertToInteractive(key) {\n",
              "        const element = document.querySelector('#df-eeb9a289-638b-4bb9-982c-72941b93a42e');\n",
              "        const dataTable =\n",
              "          await google.colab.kernel.invokeFunction('convertToInteractive',\n",
              "                                                    [key], {});\n",
              "        if (!dataTable) return;\n",
              "\n",
              "        const docLinkHtml = 'Like what you see? Visit the ' +\n",
              "          '<a target=\"_blank\" href=https://colab.research.google.com/notebooks/data_table.ipynb>data table notebook</a>'\n",
              "          + ' to learn more about interactive tables.';\n",
              "        element.innerHTML = '';\n",
              "        dataTable['output_type'] = 'display_data';\n",
              "        await google.colab.output.renderOutput(dataTable, element);\n",
              "        const docLink = document.createElement('div');\n",
              "        docLink.innerHTML = docLinkHtml;\n",
              "        element.appendChild(docLink);\n",
              "      }\n",
              "    </script>\n",
              "  </div>\n",
              "\n",
              "\n",
              "  <div id=\"id_9b53ea5e-5db9-4664-b0bf-9725a0f6ab52\">\n",
              "    <style>\n",
              "      .colab-df-generate {\n",
              "        background-color: #E8F0FE;\n",
              "        border: none;\n",
              "        border-radius: 50%;\n",
              "        cursor: pointer;\n",
              "        display: none;\n",
              "        fill: #1967D2;\n",
              "        height: 32px;\n",
              "        padding: 0 0 0 0;\n",
              "        width: 32px;\n",
              "      }\n",
              "\n",
              "      .colab-df-generate:hover {\n",
              "        background-color: #E2EBFA;\n",
              "        box-shadow: 0px 1px 2px rgba(60, 64, 67, 0.3), 0px 1px 3px 1px rgba(60, 64, 67, 0.15);\n",
              "        fill: #174EA6;\n",
              "      }\n",
              "\n",
              "      [theme=dark] .colab-df-generate {\n",
              "        background-color: #3B4455;\n",
              "        fill: #D2E3FC;\n",
              "      }\n",
              "\n",
              "      [theme=dark] .colab-df-generate:hover {\n",
              "        background-color: #434B5C;\n",
              "        box-shadow: 0px 1px 3px 1px rgba(0, 0, 0, 0.15);\n",
              "        filter: drop-shadow(0px 1px 2px rgba(0, 0, 0, 0.3));\n",
              "        fill: #FFFFFF;\n",
              "      }\n",
              "    </style>\n",
              "    <button class=\"colab-df-generate\" onclick=\"generateWithVariable('best_feature_df')\"\n",
              "            title=\"Generate code using this dataframe.\"\n",
              "            style=\"display:none;\">\n",
              "\n",
              "  <svg xmlns=\"http://www.w3.org/2000/svg\" height=\"24px\"viewBox=\"0 0 24 24\"\n",
              "       width=\"24px\">\n",
              "    <path d=\"M7,19H8.4L18.45,9,17,7.55,7,17.6ZM5,21V16.75L18.45,3.32a2,2,0,0,1,2.83,0l1.4,1.43a1.91,1.91,0,0,1,.58,1.4,1.91,1.91,0,0,1-.58,1.4L9.25,21ZM18.45,9,17,7.55Zm-12,3A5.31,5.31,0,0,0,4.9,8.1,5.31,5.31,0,0,0,1,6.5,5.31,5.31,0,0,0,4.9,4.9,5.31,5.31,0,0,0,6.5,1,5.31,5.31,0,0,0,8.1,4.9,5.31,5.31,0,0,0,12,6.5,5.46,5.46,0,0,0,6.5,12Z\"/>\n",
              "  </svg>\n",
              "    </button>\n",
              "    <script>\n",
              "      (() => {\n",
              "      const buttonEl =\n",
              "        document.querySelector('#id_9b53ea5e-5db9-4664-b0bf-9725a0f6ab52 button.colab-df-generate');\n",
              "      buttonEl.style.display =\n",
              "        google.colab.kernel.accessAllowed ? 'block' : 'none';\n",
              "\n",
              "      buttonEl.onclick = () => {\n",
              "        google.colab.notebook.generateWithVariable('best_feature_df');\n",
              "      }\n",
              "      })();\n",
              "    </script>\n",
              "  </div>\n",
              "\n",
              "    </div>\n",
              "  </div>\n"
            ],
            "application/vnd.google.colaboratory.intrinsic+json": {
              "type": "dataframe",
              "variable_name": "best_feature_df",
              "summary": "{\n  \"name\": \"best_feature_df\",\n  \"rows\": 1,\n  \"fields\": [\n    {\n      \"column\": \"best_feature\",\n      \"properties\": {\n        \"dtype\": \"string\",\n        \"num_unique_values\": 1,\n        \"samples\": [\n          \"driving_experience\"\n        ],\n        \"semantic_type\": \"\",\n        \"description\": \"\"\n      }\n    },\n    {\n      \"column\": \"best_accuracy\",\n      \"properties\": {\n        \"dtype\": \"number\",\n        \"std\": null,\n        \"min\": 0.7771,\n        \"max\": 0.7771,\n        \"num_unique_values\": 1,\n        \"samples\": [\n          0.7771\n        ],\n        \"semantic_type\": \"\",\n        \"description\": \"\"\n      }\n    }\n  ]\n}"
            }
          },
          "metadata": {},
          "execution_count": 12
        }
      ]
    }
  ],
  "metadata": {
    "colab": {
      "provenance": []
    },
    "kernelspec": {
      "display_name": "Python 3 (ipykernel)",
      "language": "python",
      "name": "python3"
    },
    "language_info": {
      "name": "python",
      "version": "3.8.10",
      "mimetype": "text/x-python",
      "codemirror_mode": {
        "name": "ipython",
        "version": 3
      },
      "pygments_lexer": "ipython3",
      "nbconvert_exporter": "python",
      "file_extension": ".py"
    },
    "vscode": {
      "interpreter": {
        "hash": "aee8b7b246df8f9039afb4144a1f6fd8d2ca17a180786b69acc140d282b71a49"
      }
    },
    "editor": "DataCamp Workspace"
  },
  "nbformat": 4,
  "nbformat_minor": 5
}